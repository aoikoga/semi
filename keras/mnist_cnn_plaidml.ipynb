{
 "cells": [
  {
   "cell_type": "markdown",
   "metadata": {},
   "source": [
    "# 手書き文字の認識\n",
    "## mnist (Keras + PlaidML版)"
   ]
  },
  {
   "cell_type": "code",
   "execution_count": 27,
   "metadata": {},
   "outputs": [],
   "source": [
    "# PlaidML の利用\n",
    "import plaidml.keras\n",
    "plaidml.keras.install_backend()"
   ]
  },
  {
   "cell_type": "code",
   "execution_count": 28,
   "metadata": {},
   "outputs": [],
   "source": [
    "# Keras の読み込み\n",
    "import keras\n",
    "from keras.datasets import mnist\n",
    "from keras.models import Sequential\n",
    "from keras.layers import Dense, Dropout, Flatten\n",
    "from keras.layers import Conv2D, MaxPooling2D\n",
    "from keras import backend as K\n",
    "\n",
    "# 学習パラメーターの設定\n",
    "batch_size = 128\n",
    "num_classes = 10\n",
    "epochs = 12\n",
    "\n",
    "# 画像サイズ\n",
    "img_rows, img_cols = 28, 28"
   ]
  },
  {
   "cell_type": "code",
   "execution_count": 30,
   "metadata": {},
   "outputs": [
    {
     "name": "stdout",
     "output_type": "stream",
     "text": [
      "x_train shape: (60000, 28, 28, 1)\n",
      "60000 train samples\n",
      "10000 test samples\n"
     ]
    }
   ],
   "source": [
    "# MNIST データセットの読み込み\n",
    "(x_train, y_train), (x_test, y_test) = mnist.load_data()\n",
    "\n",
    "if K.image_data_format() == 'channels_first':\n",
    "    x_train = x_train.reshape(x_train.shape[0], 1, img_rows, img_cols)\n",
    "    x_test = x_test.reshape(x_test.shape[0], 1, img_rows, img_cols)\n",
    "    input_shape = (1, img_rows, img_cols)\n",
    "else:\n",
    "    x_train = x_train.reshape(x_train.shape[0], img_rows, img_cols, 1)\n",
    "    x_test = x_test.reshape(x_test.shape[0], img_rows, img_cols, 1)\n",
    "    input_shape = (img_rows, img_cols, 1)\n",
    "\n",
    "x_train = x_train.astype('float32')\n",
    "x_test = x_test.astype('float32')\n",
    "x_train /= 255\n",
    "x_test /= 255\n",
    "print('x_train shape:', x_train.shape)\n",
    "print(x_train.shape[0], 'train samples')\n",
    "print(x_test.shape[0], 'test samples')\n",
    "\n",
    "# データの変換\n",
    "y_train = keras.utils.to_categorical(y_train, num_classes)\n",
    "y_test = keras.utils.to_categorical(y_test, num_classes)"
   ]
  },
  {
   "cell_type": "code",
   "execution_count": 31,
   "metadata": {
    "scrolled": true
   },
   "outputs": [
    {
     "name": "stdout",
     "output_type": "stream",
     "text": [
      "_________________________________________________________________\n",
      "Layer (type)                 Output Shape              Param #   \n",
      "=================================================================\n",
      "conv2d_7 (Conv2D)            (None, 26, 26, 32)        320       \n",
      "_________________________________________________________________\n",
      "conv2d_8 (Conv2D)            (None, 24, 24, 64)        18496     \n",
      "_________________________________________________________________\n",
      "max_pooling2d_5 (MaxPooling2 (None, 12, 12, 64)        0         \n",
      "_________________________________________________________________\n",
      "dropout_1 (Dropout)          (None, 12, 12, 64)        0         \n",
      "_________________________________________________________________\n",
      "flatten_3 (Flatten)          (None, 9216)              0         \n",
      "_________________________________________________________________\n",
      "dense_5 (Dense)              (None, 128)               1179776   \n",
      "_________________________________________________________________\n",
      "dropout_2 (Dropout)          (None, 128)               0         \n",
      "_________________________________________________________________\n",
      "dense_6 (Dense)              (None, 10)                1290      \n",
      "=================================================================\n",
      "Total params: 1,199,882\n",
      "Trainable params: 1,199,882\n",
      "Non-trainable params: 0\n",
      "_________________________________________________________________\n"
     ]
    }
   ],
   "source": [
    "# モデルの作成\n",
    "model = Sequential()\n",
    "model.add(Conv2D(32, kernel_size=(3, 3), activation='relu', input_shape=input_shape))\n",
    "model.add(Conv2D(64, (3, 3), activation='relu'))\n",
    "model.add(MaxPooling2D(pool_size=(2, 2)))\n",
    "model.add(Dropout(0.25))\n",
    "model.add(Flatten())\n",
    "model.add(Dense(128, activation='relu'))\n",
    "model.add(Dropout(0.5))\n",
    "model.add(Dense(num_classes, activation='softmax'))\n",
    "\n",
    "model.summary()"
   ]
  },
  {
   "cell_type": "code",
   "execution_count": 32,
   "metadata": {
    "scrolled": true
   },
   "outputs": [
    {
     "name": "stdout",
     "output_type": "stream",
     "text": [
      "Train on 60000 samples, validate on 10000 samples\n",
      "Epoch 1/12\n",
      "60000/60000 [==============================] - 63s 1ms/step - loss: 0.2725 - acc: 0.9155 - val_loss: 0.0567 - val_acc: 0.9816\n",
      "Epoch 2/12\n",
      "60000/60000 [==============================] - 46s 770us/step - loss: 0.0895 - acc: 0.9731 - val_loss: 0.0403 - val_acc: 0.9872\n",
      "Epoch 3/12\n",
      "60000/60000 [==============================] - 48s 795us/step - loss: 0.0652 - acc: 0.9807 - val_loss: 0.0358 - val_acc: 0.9877\n",
      "Epoch 4/12\n",
      "60000/60000 [==============================] - 46s 771us/step - loss: 0.0537 - acc: 0.9844 - val_loss: 0.0357 - val_acc: 0.9881\n",
      "Epoch 5/12\n",
      "60000/60000 [==============================] - 46s 770us/step - loss: 0.0469 - acc: 0.9858 - val_loss: 0.0304 - val_acc: 0.9907\n",
      "Epoch 6/12\n",
      "60000/60000 [==============================] - 46s 773us/step - loss: 0.0390 - acc: 0.9879 - val_loss: 0.0286 - val_acc: 0.9902\n",
      "Epoch 7/12\n",
      "60000/60000 [==============================] - 46s 773us/step - loss: 0.0363 - acc: 0.9889 - val_loss: 0.0268 - val_acc: 0.9920\n",
      "Epoch 8/12\n",
      "60000/60000 [==============================] - 46s 772us/step - loss: 0.0344 - acc: 0.9894 - val_loss: 0.0252 - val_acc: 0.9919\n",
      "Epoch 9/12\n",
      "60000/60000 [==============================] - 47s 776us/step - loss: 0.0309 - acc: 0.9907 - val_loss: 0.0294 - val_acc: 0.9910\n",
      "Epoch 10/12\n",
      "60000/60000 [==============================] - 47s 789us/step - loss: 0.0290 - acc: 0.9909 - val_loss: 0.0266 - val_acc: 0.9909\n",
      "Epoch 11/12\n",
      "60000/60000 [==============================] - 47s 783us/step - loss: 0.0263 - acc: 0.9918 - val_loss: 0.0261 - val_acc: 0.9916\n",
      "Epoch 12/12\n",
      "60000/60000 [==============================] - 47s 785us/step - loss: 0.0248 - acc: 0.9921 - val_loss: 0.0328 - val_acc: 0.9906\n",
      "Test loss: 0.03278651766777039\n",
      "Test accuracy: 0.9906\n"
     ]
    }
   ],
   "source": [
    "# MNIST の画像で CNN　を訓練\n",
    "model.compile(loss=keras.losses.categorical_crossentropy,\n",
    "              optimizer=keras.optimizers.Adadelta(),\n",
    "              metrics=['accuracy'])\n",
    "\n",
    "model.fit(x_train, y_train,\n",
    "          batch_size=batch_size,\n",
    "          epochs=epochs,\n",
    "          verbose=1,\n",
    "          validation_data=(x_test, y_test))\n",
    "score = model.evaluate(x_test, y_test, verbose=0)\n",
    "print('Test loss:', score[0])\n",
    "print('Test accuracy:', score[1])"
   ]
  },
  {
   "cell_type": "code",
   "execution_count": 33,
   "metadata": {},
   "outputs": [
    {
     "name": "stdout",
     "output_type": "stream",
     "text": [
      "----------\n",
      "0.jpg\n"
     ]
    },
    {
     "data": {
      "image/jpeg": "[encoded data removed]",
      "text/plain": [
       "<IPython.core.display.Image object>"
      ]
     },
     "metadata": {
      "image/jpeg": {
       "unconfined": true,
       "width": 150
      }
     },
     "output_type": "display_data"
    },
    {
     "name": "stdout",
     "output_type": "stream",
     "text": [
      "0 : 0.09842857\n",
      "1 : 2.1131147e-05\n",
      "2 : 0.29696506\n",
      "3 : 0.46256015\n",
      "4 : 1.772207e-08\n",
      "5 : 0.00028912266\n",
      "6 : 2.8707616e-06\n",
      "7 : 0.00015848312\n",
      "8 : 2.5859968e-05\n",
      "9 : 0.14154863\n",
      "----------\n",
      "1.jpg\n"
     ]
    },
    {
     "data": {
      "image/jpeg": "[encoded data removed]",
      "text/plain": [
       "<IPython.core.display.Image object>"
      ]
     },
     "metadata": {
      "image/jpeg": {
       "unconfined": true,
       "width": 150
      }
     },
     "output_type": "display_data"
    },
    {
     "name": "stdout",
     "output_type": "stream",
     "text": [
      "0 : 0.09842857\n",
      "1 : 2.1131147e-05\n",
      "2 : 0.29696506\n",
      "3 : 0.46256015\n",
      "4 : 1.772207e-08\n",
      "5 : 0.00028912266\n",
      "6 : 2.8707616e-06\n",
      "7 : 0.00015848312\n",
      "8 : 2.5859968e-05\n",
      "9 : 0.14154863\n",
      "----------\n",
      "2.jpg\n"
     ]
    },
    {
     "data": {
      "image/jpeg": "[encoded data removed]",
      "text/plain": [
       "<IPython.core.display.Image object>"
      ]
     },
     "metadata": {
      "image/jpeg": {
       "unconfined": true,
       "width": 150
      }
     },
     "output_type": "display_data"
    },
    {
     "name": "stdout",
     "output_type": "stream",
     "text": [
      "0 : 0.09842857\n",
      "1 : 2.1131147e-05\n",
      "2 : 0.29696506\n",
      "3 : 0.46256015\n",
      "4 : 1.772207e-08\n",
      "5 : 0.00028912266\n",
      "6 : 2.8707616e-06\n",
      "7 : 0.00015848312\n",
      "8 : 2.5859968e-05\n",
      "9 : 0.14154863\n",
      "----------\n",
      "3.jpg\n"
     ]
    },
    {
     "data": {
      "image/jpeg": "[encoded data removed]",
      "text/plain": [
       "<IPython.core.display.Image object>"
      ]
     },
     "metadata": {
      "image/jpeg": {
       "unconfined": true,
       "width": 150
      }
     },
     "output_type": "display_data"
    },
    {
     "name": "stdout",
     "output_type": "stream",
     "text": [
      "0 : 0.09842857\n",
      "1 : 2.1131147e-05\n",
      "2 : 0.29696506\n",
      "3 : 0.46256015\n",
      "4 : 1.772207e-08\n",
      "5 : 0.00028912266\n",
      "6 : 2.8707616e-06\n",
      "7 : 0.00015848312\n",
      "8 : 2.5859968e-05\n",
      "9 : 0.14154863\n",
      "----------\n",
      "4.jpg\n"
     ]
    },
    {
     "data": {
      "image/jpeg": "[encoded data removed]",
      "text/plain": [
       "<IPython.core.display.Image object>"
      ]
     },
     "metadata": {
      "image/jpeg": {
       "unconfined": true,
       "width": 150
      }
     },
     "output_type": "display_data"
    },
    {
     "name": "stdout",
     "output_type": "stream",
     "text": [
      "0 : 0.09842857\n",
      "1 : 2.1131147e-05\n",
      "2 : 0.29696506\n",
      "3 : 0.46256015\n",
      "4 : 1.772207e-08\n",
      "5 : 0.00028912266\n",
      "6 : 2.8707616e-06\n",
      "7 : 0.00015848312\n",
      "8 : 2.5859968e-05\n",
      "9 : 0.14154863\n",
      "----------\n",
      "5.jpg\n"
     ]
    },
    {
     "data": {
      "image/jpeg": "[encoded data removed]",
      "text/plain": [
       "<IPython.core.display.Image object>"
      ]
     },
     "metadata": {
      "image/jpeg": {
       "unconfined": true,
       "width": 150
      }
     },
     "output_type": "display_data"
    },
    {
     "name": "stdout",
     "output_type": "stream",
     "text": [
      "0 : 0.09842857\n",
      "1 : 2.1131147e-05\n",
      "2 : 0.29696506\n",
      "3 : 0.46256015\n",
      "4 : 1.772207e-08\n",
      "5 : 0.00028912266\n",
      "6 : 2.8707616e-06\n",
      "7 : 0.00015848312\n",
      "8 : 2.5859968e-05\n",
      "9 : 0.14154863\n",
      "----------\n",
      "6.jpg\n"
     ]
    },
    {
     "data": {
      "image/jpeg": "[encoded data removed]",
      "text/plain": [
       "<IPython.core.display.Image object>"
      ]
     },
     "metadata": {
      "image/jpeg": {
       "unconfined": true,
       "width": 150
      }
     },
     "output_type": "display_data"
    },
    {
     "name": "stdout",
     "output_type": "stream",
     "text": [
      "0 : 0.09842857\n",
      "1 : 2.1131147e-05\n",
      "2 : 0.29696506\n",
      "3 : 0.46256015\n",
      "4 : 1.772207e-08\n",
      "5 : 0.00028912266\n",
      "6 : 2.8707616e-06\n",
      "7 : 0.00015848312\n",
      "8 : 2.5859968e-05\n",
      "9 : 0.14154863\n",
      "----------\n",
      "7.jpg\n"
     ]
    },
    {
     "data": {
      "image/jpeg": "[encoded data removed]",
      "text/plain": [
       "<IPython.core.display.Image object>"
      ]
     },
     "metadata": {
      "image/jpeg": {
       "unconfined": true,
       "width": 150
      }
     },
     "output_type": "display_data"
    },
    {
     "name": "stdout",
     "output_type": "stream",
     "text": [
      "0 : 0.09842857\n",
      "1 : 2.1131147e-05\n",
      "2 : 0.29696506\n",
      "3 : 0.46256015\n",
      "4 : 1.772207e-08\n",
      "5 : 0.00028912266\n",
      "6 : 2.8707616e-06\n",
      "7 : 0.00015848312\n",
      "8 : 2.5859968e-05\n",
      "9 : 0.14154863\n",
      "----------\n",
      "8.jpg\n"
     ]
    },
    {
     "data": {
      "image/jpeg": "[encoded data removed]",
      "text/plain": [
       "<IPython.core.display.Image object>"
      ]
     },
     "metadata": {
      "image/jpeg": {
       "unconfined": true,
       "width": 150
      }
     },
     "output_type": "display_data"
    },
    {
     "name": "stdout",
     "output_type": "stream",
     "text": [
      "0 : 0.09842857\n",
      "1 : 2.1131147e-05\n",
      "2 : 0.29696506\n",
      "3 : 0.46256015\n",
      "4 : 1.772207e-08\n",
      "5 : 0.00028912266\n",
      "6 : 2.8707616e-06\n",
      "7 : 0.00015848312\n",
      "8 : 2.5859968e-05\n",
      "9 : 0.14154863\n",
      "----------\n",
      "9.jpg\n"
     ]
    },
    {
     "data": {
      "image/jpeg": "[encoded data removed]",
      "text/plain": [
       "<IPython.core.display.Image object>"
      ]
     },
     "metadata": {
      "image/jpeg": {
       "unconfined": true,
       "width": 150
      }
     },
     "output_type": "display_data"
    },
    {
     "name": "stdout",
     "output_type": "stream",
     "text": [
      "0 : 0.09842857\n",
      "1 : 2.1131147e-05\n",
      "2 : 0.29696506\n",
      "3 : 0.46256015\n",
      "4 : 1.772207e-08\n",
      "5 : 0.00028912266\n",
      "6 : 2.8707616e-06\n",
      "7 : 0.00015848312\n",
      "8 : 2.5859968e-05\n",
      "9 : 0.14154863\n"
     ]
    }
   ],
   "source": [
    "# 手書き数字の識別\n",
    "from keras.preprocessing.image import img_to_array, load_img\n",
    "import numpy as np\n",
    "from IPython.core.display import Image, display\n",
    "\n",
    "# 予測関数の定義\n",
    "def predict(f):\n",
    "    # 画像の読み込み\n",
    "    x = img_to_array(load_img(f, target_size=(28, 28), color_mode=\"grayscale\"))\n",
    "    x = np.expand_dims(x, axis=0)\n",
    "    x = x / 255.0\n",
    "\n",
    "    # 予測\n",
    "    pred = model.predict(x)[0]\n",
    "\n",
    "    # 予測結果の表示\n",
    "    for i in range(len(pred)):\n",
    "        print(i, \":\", pred[i])\n",
    "\n",
    "# ファイルの指定\n",
    "img_files = ['0.jpg', '1.jpg', '2.jpg', '3.jpg', '4.jpg', '5.jpg', '6.jpg', '7.jpg', '8.jpg', '9.jpg']\n",
    "\n",
    "# 各ファイルについて予測\n",
    "for f in img_files:\n",
    "    # 画像の表示\n",
    "    print(\"----------\")\n",
    "    print(f)\n",
    "    display(Image(f, width=150, unconfined=True))\n",
    "\n",
    "    # 予測の実行\n",
    "    predict(f)"
   ]
  },
  {
   "cell_type": "code",
   "execution_count": null,
   "metadata": {},
   "outputs": [],
   "source": []
  }
 ],
 "metadata": {
  "kernelspec": {
   "display_name": "Python 3",
   "language": "python",
   "name": "python3"
  },
  "language_info": {
   "codemirror_mode": {
    "name": "ipython",
    "version": 3
   },
   "file_extension": ".py",
   "mimetype": "text/x-python",
   "name": "python",
   "nbconvert_exporter": "python",
   "pygments_lexer": "ipython3",
   "version": "3.6.9"
  }
 },
 "nbformat": 4,
 "nbformat_minor": 2
}
