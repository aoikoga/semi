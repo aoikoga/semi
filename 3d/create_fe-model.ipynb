{
 "cells": [
  {
   "cell_type": "markdown",
   "metadata": {},
   "source": [
    "# PyMentat を用いた有限要素モデルの作成\n",
    "Mentat用のmfdファイルを直接出力"
   ]
  },
  {
   "cell_type": "code",
   "execution_count": 53,
   "metadata": {},
   "outputs": [],
   "source": [
    "# PyMentatモジュールのインポート\n",
    "# from py_mentat import *\n",
    "import math"
   ]
  },
  {
   "cell_type": "code",
   "execution_count": 54,
   "metadata": {},
   "outputs": [],
   "source": [
    "# パラメータの設定\n",
    "z = [0, 3700, 3700*2, 3700*3, 3700*4, 3700*5, 3700*6, 3700*7, 3700*8, 3700*9, 3700*10] # 基準点(mm)\n",
    "t = [350, 330, 310, 290, 270, 250, 230, 210, 190, 170, 150] # 板厚(mm)\n",
    "r = [1308, 1249, 1226, 1203, 1174, 1130, 1097, 1061, 1016, 975, 953] # 半径(mm)\n",
    "n = [3, 100, 40] # (r, theta, z)方向の区間ごと分割数"
   ]
  },
  {
   "cell_type": "code",
   "execution_count": 55,
   "metadata": {},
   "outputs": [
    {
     "name": "stdout",
     "output_type": "stream",
     "text": [
      "[[0, 3700, 350, 330, 1308, 1249], [3700, 7400, 330, 310, 1249, 1226], [7400, 11100, 310, 290, 1226, 1203], [11100, 14800, 290, 270, 1203, 1174], [14800, 18500, 270, 250, 1174, 1130], [18500, 22200, 250, 230, 1130, 1097], [22200, 25900, 230, 210, 1097, 1061], [25900, 29600, 210, 190, 1061, 1016], [29600, 33300, 190, 170, 1016, 975], [33300, 37000, 170, 150, 975, 953]]\n"
     ]
    }
   ],
   "source": [
    "# ループのため利用するデータを区間ごとにまとめておく\n",
    "z1 = z[0:len(z)-1]\n",
    "z2 = z[1:len(z)]\n",
    "t1 = t[0:len(t)-1]\n",
    "t2 = t[1:len(t)]\n",
    "r1 = r[0:len(r)-1]\n",
    "r2 = r[1:len(r)]\n",
    "\n",
    "data = []\n",
    "for i in range(0, len(z1)):\n",
    "    data.append([z1[i], z2[i], t1[i], t2[i], r1[i], r2[i]])\n",
    "print(data)"
   ]
  },
  {
   "cell_type": "code",
   "execution_count": 56,
   "metadata": {},
   "outputs": [],
   "source": [
    "# 座標値の作成\n",
    "nodes = []\n",
    "# 区間ごとにループを実行(最後の区間は別に)\n",
    "for (z1, z2, t1, t2, r1, r2) in data[:len(data)-1]:\n",
    "    # z座標を分割\n",
    "    z_list = [(z2 - z1) / n[2] * i + z1 for i in range(n[2])]\n",
    "    \n",
    "    # z座標におけるr, tを計算\n",
    "    t_list = [(t2 - t1) / n[2] * i + t1 for i in range(n[2])]\n",
    "    r_list = [(r2 - r1) / n[2] * i + r1 for i in range(n[2])]\n",
    "    \n",
    "    for k in range(len(z_list)):\n",
    "        # z\n",
    "        zz = z_list[k]\n",
    "        \n",
    "        # r方向の分割値\n",
    "        rr = r_list[k]\n",
    "        tt = t_list[k]\n",
    "        dr_list = [(rr - tt) + tt / n[0] * i for i in range(n[0]+1)]\n",
    "        \n",
    "        # theta方向の分割値(radian)\n",
    "        rad_list = [2 * math.pi / n[1] * i for i in range(n[1])]\n",
    "        \n",
    "        for dr in dr_list:\n",
    "            for rad in rad_list:\n",
    "                x = dr * math.cos(rad)\n",
    "                y = dr * math.sin(rad)\n",
    "                nodes.append([x, y, zz])\n",
    "        \n",
    "# 最後の区間\n",
    "(z1, z2, t1, t2, r1, r2) = data[-1]\n",
    "\n",
    "# z座標を分割\n",
    "z_list = [(z2 - z1) / n[2] * i + z1 for i in range(n[2]+1)]\n",
    "    \n",
    "# z座標におけるr, tを計算\n",
    "t_list = [(t2 - t1) / n[2] * i + t1 for i in range(n[2]+1)]\n",
    "r_list = [(r2 - r1) / n[2] * i + r1 for i in range(n[2]+1)]\n",
    "    \n",
    "for k in range(len(z_list)):\n",
    "    # z\n",
    "    zz = z_list[k]\n",
    "        \n",
    "    # r方向の分割値\n",
    "    rr = r_list[k]\n",
    "    tt = t_list[k]\n",
    "    dr_list = [(rr - tt) + tt / n[0] * i for i in range(n[0]+1)]\n",
    "        \n",
    "    # theta方向の分割値(radian)\n",
    "    rad_list = [2 * math.pi / n[1] * i for i in range(n[1])]\n",
    "        \n",
    "    for dr in dr_list:\n",
    "        for rad in rad_list:\n",
    "            x = dr * math.cos(rad)\n",
    "            y = dr * math.sin(rad)\n",
    "            nodes.append([x, y, zz])"
   ]
  },
  {
   "cell_type": "code",
   "execution_count": 57,
   "metadata": {},
   "outputs": [],
   "source": [
    "# 要素の作成\n",
    "n_blocks = len(z) - 1\n",
    "\n",
    "num_z = n[2]\n",
    "num_r = n[0]\n",
    "num_theta = n[1]\n",
    "num_layer = (num_r + 1) * num_theta # 各層ごとの節点数\n",
    "\n",
    "elems = []\n",
    "for k in range(num_z * n_blocks): # z方向\n",
    "    for j in range(num_r): # r方向\n",
    "        for i in range(num_theta): # theta方向\n",
    "            if i == num_theta - 1: # 1周回ったら補正\n",
    "                o = (num_layer * k) + num_theta * j + i + 1 # 基準点\n",
    "                e = [o, o+num_theta, o+1, o-num_theta+1, o+num_layer, o+num_layer+num_theta, o+num_layer+1, o+num_layer-num_theta+1]\n",
    "            else:\n",
    "                o = (num_layer * k) + num_theta * j + i + 1 # 基準点\n",
    "                e = [o, o+num_theta, o+num_theta+1, o+1, o+num_layer, o+num_layer+num_theta, o+num_layer+num_theta+1, o+num_layer+1]\n",
    "            elems.append(e)"
   ]
  },
  {
   "cell_type": "code",
   "execution_count": 58,
   "metadata": {},
   "outputs": [],
   "source": [
    "# 出力ファイル名\n",
    "output_filename = 'chimney.mfd'"
   ]
  },
  {
   "cell_type": "code",
   "execution_count": 59,
   "metadata": {},
   "outputs": [],
   "source": [
    "# MFDファイルへの出力\n",
    "with open(output_filename, mode='w') as f:\n",
    "    # MFDファイルヘッダーの出力\n",
    "    f.write('Version : Marc Mentat 2010.2.0 (64bit)\\n')\n",
    "    f.write('=beg=    1 (magic)\\n')\n",
    "    f.write('{:>20d}\\n'.format(1234))\n",
    "    f.write('=end=\\n')\n",
    "    f.write('=beg=    2 (entities)\\n')\n",
    "    f.write('{:>20d}\\n'.format(len(nodes) + len(elems)))\n",
    "    f.write('=end=\\n')\n",
    "    f.write('=beg=    3 (description)\\n\\n')\n",
    "    f.write('=end=\\n')\n",
    "\n",
    "    # 節点情報の出力\n",
    "    f.write('=beg=  102 (nodes)\\n')\n",
    "    for i, node in enumerate(nodes):\n",
    "        f.write('{:>20d} {: 13.12e} {: 13.12e} {: 13.12e}\\n'.format(i+1, node[0], node[1], node[2]))\n",
    "        f.write('{:>20d}{:>20d}\\n'.format(0, 0))\n",
    "    f.write('=end=\\n')\n",
    "\n",
    "    # 要素情報の出力\n",
    "    f.write('=beg=  205 (elements)\\n')\n",
    "    for i, elem in enumerate(elems):\n",
    "        f.write('{:>20d}{:>20d}{:>20d}{:>20d}\\n'.format(i+1, 8, 0, 8))\n",
    "        f.write('{:>20d}{:>20d}{:>20d}{:>20d}\\n'.format(elem[0], elem[1], elem[2], elem[3]))\n",
    "        f.write('{:>20d}{:>20d}{:>20d}{:>20d}\\n'.format(elem[4], elem[5], elem[6], elem[7]))\n",
    "        f.write('{:>20d}{:>20d}{:>20d}{:>20d}\\n'.format(0, 0, 0, 0))\n",
    "        f.write('{:>20d}{:>20d}{:>20d}{:>20d}\\n'.format(0, 0, 0, 0))\n",
    "    f.write('=end=\\n')"
   ]
  },
  {
   "cell_type": "code",
   "execution_count": null,
   "metadata": {},
   "outputs": [],
   "source": []
  }
 ],
 "metadata": {
  "kernelspec": {
   "display_name": "Python 3",
   "language": "python",
   "name": "python3"
  },
  "language_info": {
   "codemirror_mode": {
    "name": "ipython",
    "version": 3
   },
   "file_extension": ".py",
   "mimetype": "text/x-python",
   "name": "python",
   "nbconvert_exporter": "python",
   "pygments_lexer": "ipython3",
   "version": "3.7.9"
  }
 },
 "nbformat": 4,
 "nbformat_minor": 2
}
