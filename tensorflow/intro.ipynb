{
 "cells": [
  {
   "cell_type": "markdown",
   "metadata": {},
   "source": [
    "# TensorFlow 入門（覚え書き）"
   ]
  },
  {
   "cell_type": "markdown",
   "metadata": {},
   "source": [
    "## 1. データフローグラフ\n",
    "データの流れ（フロー）をグラフ（ネットワーク）として表現したもの。\n",
    "ノード（点）とエッジ（線）からなる。\n",
    "ノードとしては、定数、変数、（TensorFlow の）演算子などがある。"
   ]
  },
  {
   "cell_type": "markdown",
   "metadata": {},
   "source": [
    "## 2. 定数、変数\n",
    "TensorFlow では、定数や変数は専用のメソッドで定義する。オブジェクト指向されていない代数処理をイメージすると分かりやすい。"
   ]
  },
  {
   "cell_type": "code",
   "execution_count": 1,
   "metadata": {},
   "outputs": [],
   "source": [
    "import tensorflow as tf"
   ]
  },
  {
   "cell_type": "code",
   "execution_count": 27,
   "metadata": {},
   "outputs": [
    {
     "name": "stdout",
     "output_type": "stream",
     "text": [
      "Tensor(\"a_4:0\", shape=(), dtype=int32)\n",
      "Tensor(\"b_4:0\", shape=(), dtype=int32)\n",
      "Tensor(\"add_6:0\", shape=(), dtype=int32)\n"
     ]
    }
   ],
   "source": [
    "# 定数の定義\n",
    "a = tf.constant(1, name='a')\n",
    "b = tf.constant(2, name='b')\n",
    "\n",
    "# ためしに print() してみる\n",
    "print(a)\n",
    "print(b)\n",
    "\n",
    "# 定数は四則演算すると演算子のノードとなる\n",
    "c = a + b\n",
    "print(c)"
   ]
  },
  {
   "cell_type": "markdown",
   "metadata": {},
   "source": [
    "c には、a + b という式が入っているとイメージすればよい。"
   ]
  },
  {
   "cell_type": "code",
   "execution_count": 20,
   "metadata": {},
   "outputs": [
    {
     "name": "stdout",
     "output_type": "stream",
     "text": [
      "<tf.Variable 'd_1:0' shape=() dtype=int32_ref>\n"
     ]
    }
   ],
   "source": [
    "# 変数の定義\n",
    "d = tf.Variable(0, name='d') # 0 で初期化\n",
    "print(d)"
   ]
  },
  {
   "cell_type": "markdown",
   "metadata": {},
   "source": [
    "変数に値（や式）を設定するには、メソッド（assign）を利用する必要がある。"
   ]
  },
  {
   "cell_type": "code",
   "execution_count": 21,
   "metadata": {},
   "outputs": [],
   "source": [
    "e = tf.assign(d, a + b) # e に d = a + b という式が入っている"
   ]
  },
  {
   "cell_type": "markdown",
   "metadata": {},
   "source": [
    "## 2. セッション\n",
    "TensorFlow で計算結果（値の表示も含む）を得るためにはセッションを作成し、実行する必要がある。"
   ]
  },
  {
   "cell_type": "code",
   "execution_count": 22,
   "metadata": {},
   "outputs": [
    {
     "name": "stdout",
     "output_type": "stream",
     "text": [
      "1\n",
      "2\n",
      "3\n"
     ]
    }
   ],
   "source": [
    "with tf.Session() as sess:\n",
    "    print(sess.run(a))\n",
    "    print(sess.run(b))\n",
    "    print(sess.run(c))"
   ]
  },
  {
   "cell_type": "markdown",
   "metadata": {},
   "source": [
    "セッションで変数を利用する場合には、初期化が必要"
   ]
  },
  {
   "cell_type": "code",
   "execution_count": 31,
   "metadata": {},
   "outputs": [
    {
     "name": "stdout",
     "output_type": "stream",
     "text": [
      "0\n",
      "3\n",
      "3\n"
     ]
    }
   ],
   "source": [
    "with tf.Session() as sess:\n",
    "    sess.run(tf.global_variables_initializer())\n",
    "    print(sess.run(d)) # まだ e が評価されていないので 0 となる\n",
    "    print(sess.run(e))\n",
    "    # run(e) の後には、d に a + b が入っている\n",
    "    print(sess.run(d))"
   ]
  },
  {
   "cell_type": "code",
   "execution_count": 33,
   "metadata": {},
   "outputs": [
    {
     "name": "stdout",
     "output_type": "stream",
     "text": [
      "1\n",
      "2\n",
      "3\n",
      "4\n",
      "5\n"
     ]
    }
   ],
   "source": [
    "f = tf.assign(d, d + a) # d = d + a, d += a を表現\n",
    "with tf.Session() as sess:\n",
    "    sess.run(tf.global_variables_initializer())\n",
    "    for i in range(5):\n",
    "        print(sess.run(f)) # 実行ごとに値が更新される"
   ]
  },
  {
   "cell_type": "markdown",
   "metadata": {},
   "source": [
    "## プレースホルダー\n",
    "プレースホルダーを利用すれば実行時に辞書を用いて値を設定できる"
   ]
  },
  {
   "cell_type": "code",
   "execution_count": null,
   "metadata": {},
   "outputs": [],
   "source": []
  }
 ],
 "metadata": {
  "kernelspec": {
   "display_name": "Python 3",
   "language": "python",
   "name": "python3"
  },
  "language_info": {
   "codemirror_mode": {
    "name": "ipython",
    "version": 3
   },
   "file_extension": ".py",
   "mimetype": "text/x-python",
   "name": "python",
   "nbconvert_exporter": "python",
   "pygments_lexer": "ipython3",
   "version": "3.6.7"
  }
 },
 "nbformat": 4,
 "nbformat_minor": 2
}
