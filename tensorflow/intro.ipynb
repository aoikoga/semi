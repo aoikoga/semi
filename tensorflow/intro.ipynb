{
 "cells": [
  {
   "cell_type": "markdown",
   "metadata": {},
   "source": [
    "# TensorFlow 入門（覚え書き）"
   ]
  },
  {
   "cell_type": "markdown",
   "metadata": {},
   "source": [
    "## 1. データフローグラフ\n",
    "データの流れ（フロー）をグラフ（ネットワーク）として表現したもの。\n",
    "ノード（点）とエッジ（線）からなる。\n",
    "ノードとしては、定数、変数、（TensorFlow の）演算子などがある。"
   ]
  },
  {
   "cell_type": "markdown",
   "metadata": {},
   "source": [
    "## 2. 定数、変数\n",
    "TensorFlow では、定数や変数は専用のメソッドで定義する。オブジェクト指向されていない代数処理をイメージすると分かりやすい。"
   ]
  },
  {
   "cell_type": "code",
   "execution_count": 1,
   "metadata": {},
   "outputs": [],
   "source": [
    "import tensorflow as tf"
   ]
  },
  {
   "cell_type": "code",
   "execution_count": 2,
   "metadata": {},
   "outputs": [
    {
     "name": "stdout",
     "output_type": "stream",
     "text": [
      "Tensor(\"a:0\", shape=(), dtype=int32)\n",
      "Tensor(\"b:0\", shape=(), dtype=int32)\n",
      "Tensor(\"add:0\", shape=(), dtype=int32)\n"
     ]
    }
   ],
   "source": [
    "# 定数の定義\n",
    "a = tf.constant(1, name='a')\n",
    "b = tf.constant(2, name='b')\n",
    "\n",
    "# ためしに print() してみる\n",
    "print(a)\n",
    "print(b)\n",
    "\n",
    "# 定数は四則演算すると演算子のノードとなる\n",
    "c = a + b\n",
    "print(c)"
   ]
  },
  {
   "cell_type": "markdown",
   "metadata": {},
   "source": [
    "c には、a + b という式が入っているとイメージすればよい。"
   ]
  },
  {
   "cell_type": "code",
   "execution_count": 3,
   "metadata": {},
   "outputs": [
    {
     "name": "stdout",
     "output_type": "stream",
     "text": [
      "<tf.Variable 'd:0' shape=() dtype=int32_ref>\n"
     ]
    }
   ],
   "source": [
    "# 変数の定義\n",
    "d = tf.Variable(0, name='d') # 0 で初期化\n",
    "print(d)"
   ]
  },
  {
   "cell_type": "markdown",
   "metadata": {},
   "source": [
    "変数に値（や式）を設定するには、メソッド（assign）を利用する必要がある。"
   ]
  },
  {
   "cell_type": "code",
   "execution_count": 4,
   "metadata": {},
   "outputs": [
    {
     "name": "stdout",
     "output_type": "stream",
     "text": [
      "Tensor(\"Assign:0\", shape=(), dtype=int32_ref)\n"
     ]
    }
   ],
   "source": [
    "e = tf.assign(d, a + b) # e に d = a + b という式が入っている\n",
    "print(e)"
   ]
  },
  {
   "cell_type": "markdown",
   "metadata": {},
   "source": [
    "加算や乗算などの演算をメソッド（add, multiply）で実行することができる。"
   ]
  },
  {
   "cell_type": "code",
   "execution_count": 5,
   "metadata": {},
   "outputs": [
    {
     "name": "stdout",
     "output_type": "stream",
     "text": [
      "Tensor(\"Add:0\", shape=(), dtype=int32)\n",
      "Tensor(\"Mul:0\", shape=(), dtype=int32)\n"
     ]
    }
   ],
   "source": [
    "f = tf.add(a, b)\n",
    "g = tf.multiply(a, b)\n",
    "print(f)\n",
    "print(g)"
   ]
  },
  {
   "cell_type": "markdown",
   "metadata": {},
   "source": [
    "## 3. セッション\n",
    "TensorFlow で計算結果（値の表示も含む）を得るためにはセッションを作成し、実行する必要がある。"
   ]
  },
  {
   "cell_type": "code",
   "execution_count": 6,
   "metadata": {},
   "outputs": [
    {
     "name": "stdout",
     "output_type": "stream",
     "text": [
      "a = 1\n",
      "b = 2\n",
      "c = 3\n"
     ]
    }
   ],
   "source": [
    "with tf.Session() as sess:\n",
    "    print('a =', sess.run(a))\n",
    "    print('b =', sess.run(b))\n",
    "    print('c =', sess.run(c))"
   ]
  },
  {
   "cell_type": "markdown",
   "metadata": {},
   "source": [
    "セッションで変数を利用する場合には、初期化が必要"
   ]
  },
  {
   "cell_type": "code",
   "execution_count": 7,
   "metadata": {},
   "outputs": [
    {
     "name": "stdout",
     "output_type": "stream",
     "text": [
      "d = 0\n",
      "e = 3\n",
      "d = 3\n",
      "f = 3\n",
      "g = 2\n"
     ]
    }
   ],
   "source": [
    "with tf.Session() as sess:\n",
    "    sess.run(tf.global_variables_initializer())\n",
    "    print('d =', sess.run(d)) # まだ e が評価されていないので 0 となる\n",
    "    print('e =', sess.run(e))\n",
    "    # run(e) の後には、d に a + b が入っている\n",
    "    print('d =', sess.run(d))\n",
    "    # 演算の実行\n",
    "    print('f =', sess.run(f))\n",
    "    print('g =', sess.run(g))"
   ]
  },
  {
   "cell_type": "code",
   "execution_count": 8,
   "metadata": {},
   "outputs": [
    {
     "name": "stdout",
     "output_type": "stream",
     "text": [
      "1\n",
      "2\n",
      "3\n",
      "4\n",
      "5\n"
     ]
    }
   ],
   "source": [
    "h = tf.assign(d, d + a) # d = d + a, d += a を表現\n",
    "with tf.Session() as sess:\n",
    "    sess.run(tf.global_variables_initializer())\n",
    "    for i in range(5):\n",
    "        print(sess.run(h)) # 実行ごとに値が更新される"
   ]
  },
  {
   "cell_type": "markdown",
   "metadata": {},
   "source": [
    "## 4. プレースホルダー\n",
    "プレースホルダーを利用すれば実行時に辞書を用いて値を設定できる"
   ]
  },
  {
   "cell_type": "code",
   "execution_count": 9,
   "metadata": {},
   "outputs": [
    {
     "name": "stdout",
     "output_type": "stream",
     "text": [
      "p = 10\n"
     ]
    }
   ],
   "source": [
    "p = tf.placeholder(dtype=tf.int32, name='p')\n",
    "with tf.Session() as sess:\n",
    "    print('p =', sess.run(p, feed_dict={p: 10}))"
   ]
  },
  {
   "cell_type": "markdown",
   "metadata": {},
   "source": [
    "## 5. 配列とテンソル演算"
   ]
  },
  {
   "cell_type": "code",
   "execution_count": 10,
   "metadata": {},
   "outputs": [
    {
     "name": "stdout",
     "output_type": "stream",
     "text": [
      "a + b = [5 7 9]\n"
     ]
    }
   ],
   "source": [
    "# ベクトル\n",
    "a = tf.constant([1, 2, 3], name='a')\n",
    "b = tf.constant([4, 5, 6], name='b')\n",
    "c = a + b\n",
    "with tf.Session() as sess:\n",
    "    print('a + b =', sess.run(c))"
   ]
  },
  {
   "cell_type": "code",
   "execution_count": 11,
   "metadata": {},
   "outputs": [
    {
     "name": "stdout",
     "output_type": "stream",
     "text": [
      "(2, 2)\n",
      "(2, 1)\n",
      "(2, 1)\n",
      "a =\n",
      " [[1 2]\n",
      " [3 4]]\n",
      "b =\n",
      " [[1]\n",
      " [2]]\n",
      "c =\n",
      " [[ 5]\n",
      " [11]]\n"
     ]
    }
   ],
   "source": [
    "# マトリクス\n",
    "a = tf.constant([[1, 2], [3, 4]], name='a')\n",
    "b = tf.constant([[1], [2]], name='b')\n",
    "c = tf.matmul(a, b)\n",
    "print(a.shape)\n",
    "print(b.shape)\n",
    "print(c.shape)\n",
    "\n",
    "with tf.Session() as sess:\n",
    "    print('a =\\n', sess.run(a))\n",
    "    print('b =\\n', sess.run(b))\n",
    "    print('c =\\n', sess.run(c))"
   ]
  },
  {
   "cell_type": "markdown",
   "metadata": {},
   "source": [
    "テンソルでプレースホルダーを用いる場合、大きさが決まっていない次元については `shape=(None, 2)` などと `None` を指定する。"
   ]
  },
  {
   "cell_type": "code",
   "execution_count": 12,
   "metadata": {},
   "outputs": [
    {
     "name": "stdout",
     "output_type": "stream",
     "text": [
      "a = [[1 2]]\n",
      "a = [[1 2]\n",
      " [3 4]]\n"
     ]
    }
   ],
   "source": [
    "a = tf.placeholder(shape=(None, 2), dtype=tf.int32, name='a')\n",
    "\n",
    "with tf.Session() as sess:\n",
    "    print('a =', sess.run(a, feed_dict={a: [[1, 2]]}))\n",
    "    print('a =', sess.run(a, feed_dict={a: [[1, 2], [3, 4]]}))\n",
    "                                        "
   ]
  },
  {
   "cell_type": "markdown",
   "metadata": {},
   "source": [
    "## 6. Saver によるセッション変数の保存\n",
    "Saver を利用することによって、セッション変数を保存し、他セッションや別プロセスでデータを利用することができる。"
   ]
  },
  {
   "cell_type": "code",
   "execution_count": 13,
   "metadata": {},
   "outputs": [
    {
     "name": "stdout",
     "output_type": "stream",
     "text": [
      "2\n",
      "3\n",
      "INFO:tensorflow:Restoring parameters from .model/model.ckpt\n",
      "4\n",
      "5\n"
     ]
    }
   ],
   "source": [
    "a = tf.Variable(1, name='a')\n",
    "b = tf.assign(a, a + 1)\n",
    "\n",
    "saver = tf.train.Saver()\n",
    "\n",
    "with tf.Session() as sess:\n",
    "    sess.run(tf.global_variables_initializer())\n",
    "    print(sess.run(b))\n",
    "    print(sess.run(b))\n",
    "    saver.save(sess, '.model/model.ckpt')\n",
    "    \n",
    "with tf.Session() as sess:\n",
    "    sess.run(tf.global_variables_initializer())\n",
    "    saver.restore(sess, save_path='.model/model.ckpt')\n",
    "    print(sess.run(b))\n",
    "    print(sess.run(b))"
   ]
  },
  {
   "cell_type": "markdown",
   "metadata": {},
   "source": [
    "## 7. 勾配法"
   ]
  },
  {
   "cell_type": "code",
   "execution_count": 16,
   "metadata": {},
   "outputs": [
    {
     "name": "stdout",
     "output_type": "stream",
     "text": [
      "x = 0.2\n",
      "x = 0.36\n",
      "x = 0.48800004\n",
      "x = 0.59040004\n",
      "x = 0.67232\n",
      "x = 0.73785603\n",
      "x = 0.7902848\n",
      "x = 0.8322278\n",
      "x = 0.86578226\n",
      "x = 0.8926258\n",
      "x = 0.91410065\n",
      "x = 0.9312805\n",
      "x = 0.9450244\n",
      "x = 0.9560195\n",
      "x = 0.9648156\n",
      "x = 0.9718525\n",
      "x = 0.97748196\n",
      "x = 0.98198557\n",
      "x = 0.98558843\n",
      "x = 0.98847073\n"
     ]
    }
   ],
   "source": [
    "## 最急降下法\n",
    "\n",
    "# パラメーターは変数として定義\n",
    "x = tf.Variable(0., name='x')\n",
    "\n",
    "# 最小化したい関数を定義\n",
    "func = (x - 1)**2\n",
    "\n",
    "# オプティマイザーの定義\n",
    "optimizer = tf.train.GradientDescentOptimizer(\n",
    "    learning_rate = 0.1 # learning_rate は一度にずらす大きさ\n",
    ")\n",
    "\n",
    "# ずらす捜査を train_step として定義\n",
    "train_step = optimizer.minimize(func)\n",
    "\n",
    "# 最適化を行う\n",
    "with tf.Session() as sess:\n",
    "    sess.run(tf.global_variables_initializer())\n",
    "    for i in range(20):\n",
    "        sess.run(train_step)\n",
    "        print('x =', sess.run(x))\n"
   ]
  },
  {
   "cell_type": "code",
   "execution_count": null,
   "metadata": {},
   "outputs": [],
   "source": []
  }
 ],
 "metadata": {
  "kernelspec": {
   "display_name": "Python 3",
   "language": "python",
   "name": "python3"
  },
  "language_info": {
   "codemirror_mode": {
    "name": "ipython",
    "version": 3
   },
   "file_extension": ".py",
   "mimetype": "text/x-python",
   "name": "python",
   "nbconvert_exporter": "python",
   "pygments_lexer": "ipython3",
   "version": "3.6.7"
  }
 },
 "nbformat": 4,
 "nbformat_minor": 2
}
