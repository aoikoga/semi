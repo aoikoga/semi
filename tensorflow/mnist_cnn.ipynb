{
 "cells": [
  {
   "cell_type": "markdown",
   "metadata": {},
   "source": [
    "# 手書き文字の認識\n",
    "## mnist (CNN版)"
   ]
  },
  {
   "cell_type": "code",
   "execution_count": 1,
   "metadata": {},
   "outputs": [
    {
     "name": "stdout",
     "output_type": "stream",
     "text": [
      "Extracting .data/train-images-idx3-ubyte.gz\n",
      "Extracting .data/train-labels-idx1-ubyte.gz\n",
      "Extracting .data/t10k-images-idx3-ubyte.gz\n",
      "Extracting .data/t10k-labels-idx1-ubyte.gz\n"
     ]
    }
   ],
   "source": [
    "from tensorflow.examples.tutorials.mnist import input_data\n",
    "import tensorflow as tf\n",
    "\n",
    "# データの読み込み\n",
    "mnist = input_data.read_data_sets('.data/', one_hot=True)\n",
    "\n",
    "# 訓練データの取得\n",
    "train_images, train_labels = mnist.train.next_batch(50) # ミニバッチ数を指定して取得\n",
    "\n",
    "# テスト用の画像データを取得\n",
    "test_images = mnist.test.images\n",
    "\n",
    "# テスト用のラベルデータ(正解)を取得\n",
    "test_labels = mnist.test.labels"
   ]
  },
  {
   "cell_type": "code",
   "execution_count": 3,
   "metadata": {},
   "outputs": [
    {
     "name": "stdout",
     "output_type": "stream",
     "text": [
      "Step 100: accuracy = 0.83\n",
      "Step 200: accuracy = 0.92\n",
      "Step 300: accuracy = 0.94\n",
      "Step 400: accuracy = 0.94\n",
      "Step 500: accuracy = 0.95\n",
      "Step 600: accuracy = 0.96\n",
      "Step 700: accuracy = 0.95\n",
      "Step 800: accuracy = 0.96\n",
      "Step 900: accuracy = 0.96\n",
      "Step 1000: accuracy = 0.97\n"
     ]
    }
   ],
   "source": [
    "# 入力データを定義\n",
    "x = tf.placeholder(tf.float32, [None, 784])\n",
    "\n",
    "# 入力画像をログに出力\n",
    "img = tf.reshape(x, [-1, 28, 28, 1]) # reshape の '-1' は他の次元のサイズから適切な大きさが設定される\n",
    "tf.summary.image('input_data', img, 10)\n",
    "\n",
    "# 畳み込み層1\n",
    "f1 = tf.Variable(tf.truncated_normal([5, 5, 1, 32], stddev=0.1)) # [縦, 横, チャンネル数, フィルタ枚数]\n",
    "conv1 = tf.nn.conv2d(img, f1, strides=[1, 1, 1, 1], padding='SAME')\n",
    "b1 = tf.Variable(tf.constant(0.1, shape=[32]))\n",
    "h_conv1 = tf.nn.relu(conv1 + b1)\n",
    "\n",
    "# プーリング層1\n",
    "h_pool1 = tf.nn.max_pool(h_conv1, ksize=[1, 2, 2, 1], strides=[1, 2, 2, 1], padding='SAME') # [28px, 28px, 1ch] > [14px, 14px, 32ch]\n",
    "\n",
    "# 畳み込み層2\n",
    "f2 = tf.Variable(tf.truncated_normal([5, 5, 32, 64], stddev=0.1))\n",
    "conv2 = tf.nn.conv2d(h_pool1, f2, strides=[1, 1, 1, 1], padding='SAME')\n",
    "b2 = tf.Variable(tf.constant(0.1, shape=[64]))\n",
    "h_conv2 = tf.nn.relu(conv2 + b2)\n",
    "\n",
    "# プーリング層2\n",
    "h_pool2 = tf.nn.max_pool(h_conv2, ksize=[1, 2, 2, 1], strides=[1, 2, 2, 1], padding='SAME') # [14px, 14px, 32ch] > [7px, 7px, 64ch]\n",
    "\n",
    "# 畳み込みをフラットに\n",
    "h_pool2_flat = tf.reshape(h_pool2, [-1, 7 * 7 * 64])\n",
    "\n",
    "# 全結合層\n",
    "w_fc1 = tf.Variable(tf.truncated_normal([7 * 7 * 64, 1024], stddev=0.1))\n",
    "b_fc1 = tf.Variable(tf.constant(0.1, shape=[1024]))\n",
    "h_fc1 = tf.nn.relu(tf.matmul(h_pool2_flat, w_fc1) + b_fc1)\n",
    "\n",
    "# 出力層\n",
    "w_fc2 = tf.Variable(tf.truncated_normal([1024, 10], stddev=0.1))\n",
    "b_fc2 = tf.Variable(tf.constant(0.1, shape=[10]))\n",
    "out = tf.nn.softmax(tf.matmul(h_fc1, w_fc2) + b_fc2)\n",
    "\n",
    "# 誤差関数(クロスエントロピー)\n",
    "y = tf.placeholder(tf.float32, [None, 10])\n",
    "loss = tf.reduce_mean(- tf.reduce_sum(y * tf.log(out + 1e-5), axis=[1]))\n",
    "\n",
    "# 訓練\n",
    "train_step = tf.train.GradientDescentOptimizer(0.01).minimize(loss)\n",
    "\n",
    "# 評価\n",
    "correct = tf.equal(tf.argmax(out, 1), tf.argmax(y, 1))\n",
    "accuracy = tf.reduce_mean(tf.cast(correct, tf.float32))\n",
    "\n",
    "# モデル保存の準備\n",
    "saver = tf.train.Saver(max_to_keep = 3)\n",
    "\n",
    "# 実行\n",
    "with tf.Session() as sess:\n",
    "    sess.run(tf.global_variables_initializer())\n",
    "    \n",
    "    test_images = mnist.test.images\n",
    "    test_labels = mnist.test.labels\n",
    "    \n",
    "    for i in range(1000):\n",
    "        step = i + 1\n",
    "        train_images, train_labels = mnist.train.next_batch(50) # ミニバッチを取得\n",
    "        sess.run(train_step, feed_dict={x:train_images, y:train_labels}) # 訓練を実行\n",
    "        \n",
    "        if step % 100 == 0:\n",
    "            acc_val = sess.run(accuracy, feed_dict={x:test_images, y:test_labels}) # 精度計算を実行\n",
    "            print('Step %d: accuracy = %.2f' % (step, acc_val))\n",
    "            saver.save(sess, '.ckpt/mnist_cnn_model', global_step = step, write_meta_graph = False)"
   ]
  },
  {
   "cell_type": "code",
   "execution_count": null,
   "metadata": {},
   "outputs": [],
   "source": []
  }
 ],
 "metadata": {
  "kernelspec": {
   "display_name": "Python 3",
   "language": "python",
   "name": "python3"
  },
  "language_info": {
   "codemirror_mode": {
    "name": "ipython",
    "version": 3
   },
   "file_extension": ".py",
   "mimetype": "text/x-python",
   "name": "python",
   "nbconvert_exporter": "python",
   "pygments_lexer": "ipython3",
   "version": "3.6.7"
  }
 },
 "nbformat": 4,
 "nbformat_minor": 2
}
