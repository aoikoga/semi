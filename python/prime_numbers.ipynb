{
 "cells": [
  {
   "cell_type": "markdown",
   "metadata": {},
   "source": [
    "# 例題：100までの素数を求める"
   ]
  },
  {
   "cell_type": "markdown",
   "metadata": {},
   "source": [
    "まず、素数とはどういった数かを考える。\n",
    "素数とは、その数より小さな全て数で割り切れない数のことである。\n",
    "\n",
    "つまり、ある数 `j` が素数であるか調べるには、`2` から `j-1` までの数で割り切れるか調べればよい。\n",
    "\n",
    "この処理を Python で記述すると次のようになる。\n",
    "\n",
    "```python\n",
    "for i in range(2, j): # python では、2からj-1となることに注意\n",
    "    if j % i == 0:\n",
    "        # 素数でない場合のブロック\n",
    "```\n",
    "\n",
    "ここで、`j % i` は `j` を `i` で割った余り(剰余)を表しており、余りが `0` であれば割り切れたということになる。\n",
    "\n",
    "ただ、このままでは、ループが終わった後に、素数であるかを判定することができないので、素数であるという状態を保存する `is_prime` という変数を用いることにする。\n",
    "\n",
    "素数のチェックループに入る前に、ある数が素数であると仮定し `is_prime` に `True` を代入しておき、素数でないと判断した時点で、`is_prime` に `False` を代入するようにする。\n",
    "\n",
    "この処理を加えると次のようになる。\n",
    "\n",
    "```python\n",
    "is_prime = True\n",
    "for i in range(2, j):\n",
    "    if j % i == 0:\n",
    "        is_prime = False\n",
    "```\n",
    "\n",
    "素数のチェックループを抜けた後に、`is_prime` が `True` のままなら、その数は素数ということになる。\n",
    "\n",
    "ほぼ、素数であるかを判定する部分ができあがってきたので、素数を表示する部分を考える。\n",
    "\n",
    "素数の表示は、素数のチェックループの後で、 `is_prime` の値を調べて `True` のままであれば表示するようにすればよい。\n",
    "\n",
    "この処理を Python で記述すると次のようになる。\n",
    "\n",
    "~~~python\n",
    "if is_prime == True:\n",
    "    print(j)\n",
    "~~~\n",
    "\n",
    "さらに、`100` までの数に関するループを追加すると次のようになる。\n",
    "\n",
    "~~~python\n",
    "for j in range(2, 100 + 1): # python で 100 までループさせるには、range の第2引数として 100 + 1 を指定\n",
    "    is_prime = True\n",
    "    for i in range(2, j):\n",
    "        if j % i == 0:\n",
    "            is_prime = False\n",
    "    if is_prime == True:\n",
    "        print(j)\n",
    "~~~\n",
    "\n",
    "最後に、コードの高速化と出力を見やすくするように修正してみる。\n",
    "\n",
    "`j` が `i` で割り切れた時点で、以降のループは無駄となるため、`is_prime = False` の次の行に `break` を追加する。整数の半分は偶数で、`2` で割り切れるとこを考えれば、これだけでかなりの高速化となる。\n",
    "\n",
    "見やすくするためには、求めた素数をリストに格納するとよい。\n",
    "最初に空のリストを作成し、素数であると判断した数をリストに追加して、最後にリストを出力するようにするとよい。\n",
    "\n",
    "この修正を加えた最終的なコードは次のようになる。"
   ]
  },
  {
   "cell_type": "code",
   "execution_count": 1,
   "metadata": {},
   "outputs": [
    {
     "name": "stdout",
     "output_type": "stream",
     "text": [
      "[2, 3, 5, 7, 11, 13, 17, 19, 23, 29, 31, 37, 41, 43, 47, 53, 59, 61, 67, 71, 73, 79, 83, 89, 97]\n"
     ]
    }
   ],
   "source": [
    "prime_numbers = []\n",
    "\n",
    "for j in range(2, 100 + 1):\n",
    "    is_prime = True\n",
    "    for i in range(2, j):\n",
    "        if j % i == 0:\n",
    "            is_prime = False\n",
    "            break\n",
    "    if is_prime == True:\n",
    "        prime_numbers += [j]\n",
    "\n",
    "print(prime_numbers)"
   ]
  }
 ],
 "metadata": {
  "kernelspec": {
   "display_name": "Python 3",
   "language": "python",
   "name": "python3"
  },
  "language_info": {
   "codemirror_mode": {
    "name": "ipython",
    "version": 3
   },
   "file_extension": ".py",
   "mimetype": "text/x-python",
   "name": "python",
   "nbconvert_exporter": "python",
   "pygments_lexer": "ipython3",
   "version": "3.7.1"
  }
 },
 "nbformat": 4,
 "nbformat_minor": 2
}
